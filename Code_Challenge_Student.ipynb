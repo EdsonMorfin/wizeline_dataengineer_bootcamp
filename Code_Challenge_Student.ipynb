{
  "nbformat": 4,
  "nbformat_minor": 0,
  "metadata": {
    "colab": {
      "name": "Code_Challenge_Student.ipynb",
      "provenance": [],
      "collapsed_sections": []
    },
    "kernelspec": {
      "name": "python3",
      "display_name": "Python 3"
    },
    "language_info": {
      "name": "python"
    }
  },
  "cells": [
    {
      "cell_type": "markdown",
      "source": [
        "#Data Bootcamp Selection Challenge\n",
        "#####In this challenge you will calculate various KPIs using a car based dataset, each question will have a single correct answer that will be evaluated through automated unit testing. Use the dictionary provided below to fill in your answers, each question will state the format required for the answer and examples are provided so you know how properly fill the answer dictionary. \n",
        "#####**Use the dataset \"as is\" and do not perform any data cleaning or modify it in any way, doing so could make you answer all your questions incorrectly. Do not modify the structure of the answer dictionary.**\n",
        "\n",
        "#####When you finish this challenge please upload both your notebook and your answer dictionary in pickle format to a public github repository submit their URL to the [google form](https://forms.gle/wWysZEMkoZsjB11Y7) that was provided to you.\n",
        "\n",
        "##### Some unit tests are provided at the end of this notebook to help you verify your answers are in the correct format, however they will not test everything.\n",
        "\n",
        "\n",
        "\n"
      ],
      "metadata": {
        "id": "Ab6tQ8XLwqzG"
      }
    },
    {
      "cell_type": "code",
      "execution_count": 2,
      "metadata": {
        "id": "1kj3oTmRvWXi"
      },
      "outputs": [],
      "source": [
        "#Use this dictionary to store your answers in the correct format in the cells below , do not modify the keys\n",
        "answer_dict =  {\"Q1\" : None,\n",
        "                \"Q2\" : None,\n",
        "                \"Q3\" : None,\n",
        "                \"Q4\" : None,\n",
        "                \"Q5\" : None,\n",
        "                \"Q6\" : None,\n",
        "                \"Q7\" : None}"
      ]
    },
    {
      "cell_type": "markdown",
      "source": [
        "##Reading the dataset\n",
        "#####An example is provided to read the dataset using [pandas](https://pandas.pydata.org/), while we reccommend using pandas you may use any python library to solve this challenge. "
      ],
      "metadata": {
        "id": "Z0pZ4Vlx3VZy"
      }
    },
    {
      "cell_type": "code",
      "source": [
        "import pandas as pd\n",
        "import numpy as np\n",
        "from scipy import stats\n",
        "url='https://drive.google.com/file/d/1PCJ7ltluquoXKi6MYTPMfwZQNI_-MIFP/view?usp=sharing'\n",
        "url='https://drive.google.com/uc?id=' + url.split('/')[-2]\n",
        "df = pd.read_csv(url)"
      ],
      "metadata": {
        "id": "7U3UNKSj3oxa"
      },
      "execution_count": 10,
      "outputs": []
    },
    {
      "cell_type": "code",
      "source": [
        "df.head()"
      ],
      "metadata": {
        "id": "J10uW58Qv2B_"
      },
      "execution_count": null,
      "outputs": []
    },
    {
      "cell_type": "code",
      "source": [
        "df.info()"
      ],
      "metadata": {
        "id": "LutcGEx8v4GY"
      },
      "execution_count": null,
      "outputs": []
    },
    {
      "cell_type": "markdown",
      "source": [
        "##Q1. What is the average CO2 emmission per gram/mile of all Volkswagen cars?\n",
        "\n",
        "##### Format: A floating number\n",
        "##### Example answer:\n",
        " `11.547`"
      ],
      "metadata": {
        "id": "kLRp8K_wnEJG"
      }
    },
    {
      "cell_type": "code",
      "source": [
        "def average_CO2():\n",
        "    \"\"\"Q1. What is the average CO2 emmission per gram/mile of all Volkswagen cars? \n",
        "\n",
        "    Returns:\n",
        "        C02 Mean: float\n",
        "    \"\"\"\n",
        "    Co2 = df['Fuel Cost/Year']\n",
        "    return Co2.mean()\n",
        "answer_dict[\"Q1\"] =float(average_CO2())"
      ],
      "metadata": {
        "id": "jBGXf7RRnEoV"
      },
      "execution_count": 5,
      "outputs": []
    },
    {
      "cell_type": "markdown",
      "source": [
        "##Q2. Calculate the top 5 brands(Make) with the most unique models, order your answer in descending order with respect to the number of unique models.\n",
        "##### **NOTE:** Consider only the name of the models and their brand, that is use only the Make and Model columns\n",
        "##### Format: A 5X2 list with each row being the name of the brand followed by the unique number of models, in descending order.\n",
        "#####Hint: You can use the pandas [df.values.tolist()](https://pandas.pydata.org/docs/reference/api/pandas.Series.tolist.html) function to format your answer.\n",
        "\n",
        "##### Example answer: \n",
        "`[[\"Volkswagen\", 1000], [\"Toyota\", 900], [\"Honda\", 800], [\"Subaru\", 700], [\"Ford\", 600]]`"
      ],
      "metadata": {
        "id": "SPNq7yn74kjd"
      }
    },
    {
      "cell_type": "code",
      "source": [
        "def most_unique_brands() -> list:\n",
        "    \"\"\"Q2. Calculate the top 5 brands(Make) with the most unique models, order your answer in descending order with respect to the number of unique models.\n",
        "\n",
        "    Returns:\n",
        "        values_unique: list\n",
        "    \"\"\"\n",
        "    unique = df.groupby('Make')['Model'].nunique().sort_values(ascending=False).head(5)\n",
        "    index_unique = unique.index\n",
        "    values_unique = unique.values\n",
        "    unique_models = []\n",
        "    for i in range(5):\n",
        "        temp = []\n",
        "        temp.append(index_unique[i])\n",
        "        temp.append(int(values_unique[i]))\n",
        "        unique_models.append(temp)\n",
        "    return list(unique_models)\n",
        "    \n",
        "answer_dict[\"Q2\"] = most_unique_brands()"
      ],
      "metadata": {
        "id": "StipyFue4Dx-"
      },
      "execution_count": 6,
      "outputs": []
    },
    {
      "cell_type": "markdown",
      "source": [
        "##Q3. What are all the different types of fuels in the dataset sorted alphabetically?\n",
        "##### Format: A list of strings sorted alphabetically.\n",
        "##### Example Answer: \n",
        "`['Regular',\n",
        " 'Premium']`"
      ],
      "metadata": {
        "id": "EGxv7N15AiLu"
      }
    },
    {
      "cell_type": "code",
      "source": [
        "def types_of_fuel():\n",
        "    \"\"\"Q3. What are all the different types of fuels in the dataset sorted alphabetically?\n",
        "    Returns:\n",
        "        fuels: list\n",
        "    \"\"\"\n",
        "    fuels = list(dict.fromkeys(df['Fuel Type']))\n",
        "    return sorted(fuels)\n",
        "    \n",
        "answer_dict[\"Q3\"] = types_of_fuel()"
      ],
      "metadata": {
        "id": "otyDsWpsAjde"
      },
      "execution_count": 7,
      "outputs": []
    },
    {
      "cell_type": "markdown",
      "source": [
        "##Q4. Show the 9 Toyota cars with the most extreme Fuel Barrels/Year in abosolute terms within all Toyota cars. Show the car Model, Year and their Fuel Barrels/Year in standard deviation units([Z-score](https://fredclavel.org/2019/03/18/basics-standardization-and-the-z-score/)) **sorted** in descending order by their Fuel Barrels/Year in absolute terms first and then by year in descending order **BUT** without modifying the negative values (see example).\n",
        "\n",
        "##### Format: A 9X3 list with each row containing the Model, Year and Fuel Barrels/Year in standard deviations units\n",
        "\n",
        "##### Example answer: \n",
        "```\n",
        "[['DJ Po Vehicle 2WD', 2004, -6.407431084026927],\n",
        " ['FJ8c Post Office', 2003, -6.407431084026927],\n",
        " ['Post Office DJ5 2WD', 2005, -6.391684618442447],\n",
        " ['Sierra 2500 Hd 2WD', 2002, -6.391684618442447],\n",
        " ['Camry CNG', 2012, 2.677633075759575],\n",
        " ['Sierra 1500 4WD', 2005, 2.677633075759575],\n",
        " ['Sierra 1500 4WD', 2001, 2.677633075759575],\n",
        " ['V15 Suburban 4WD', 1988, 2.677633075759575],\n",
        " ['V15 Suburban 4WD', 1987, 2.677633075759575]]\n",
        "```\n",
        "#####Note that while the list is sorted by the Fuel Barrels/Year in absolute terms and in standard deviation units, the values are not modified. If the values are the same the rows are sorted by the year.\n"
      ],
      "metadata": {
        "id": "ijpZht03tV5W"
      }
    },
    {
      "cell_type": "code",
      "source": [
        "def fuel_per_year():\n",
        "    \"\"\"Q4. Show the 9 Toyota cars with the most extreme Fuel Barrels/Year in abosolute terms within all Toyota cars.\n",
        "        Show the car Model, Year and their Fuel Barrels/Year in standard deviation units(Z-score)\n",
        "        sorted in descending order by their Fuel Barrels/Year in absolute terms first and\n",
        "        then by year in descending order BUT without modifying the negative values.\"\"\"\n",
        "    toyota_vehicles = df.query('Make==\"Toyota\"')\n",
        "    toyota_vehicles['Fuel Barrels/Year'] = stats.zscore(toyota_vehicles['Fuel Barrels/Year'])\n",
        "    toyota_vehicles= toyota_vehicles.sort_values(by=['Fuel Barrels/Year','Year'], ascending=False)\n",
        "    galons_per_year=toyota_vehicles.reindex(toyota_vehicles['Fuel Barrels/Year'].abs().sort_values(ascending=False).index).head(9)\n",
        "    toyota_gpy = []\n",
        "    for i in range(9):\n",
        "        temp = []\n",
        "        temp.append(galons_per_year['Model'].values[i])\n",
        "        temp.append(int(galons_per_year['Year'].values[i]))\n",
        "        temp.append(float(galons_per_year['Fuel Barrels/Year'].values[i]))\n",
        "        toyota_gpy.append(temp)\n",
        "    return toyota_gpy\n",
        "answer_dict[\"Q4\"] = fuel_per_year()"
      ],
      "metadata": {
        "id": "de_GgmrFVcvO",
        "colab": {
          "base_uri": "https://localhost:8080/"
        },
        "outputId": "09fecef3-dd12-40a9-9af6-58e922602cae"
      },
      "execution_count": 11,
      "outputs": [
        {
          "output_type": "stream",
          "name": "stderr",
          "text": [
            "/usr/local/lib/python3.7/dist-packages/ipykernel_launcher.py:7: SettingWithCopyWarning: \n",
            "A value is trying to be set on a copy of a slice from a DataFrame.\n",
            "Try using .loc[row_indexer,col_indexer] = value instead\n",
            "\n",
            "See the caveats in the documentation: https://pandas.pydata.org/pandas-docs/stable/user_guide/indexing.html#returning-a-view-versus-a-copy\n",
            "  import sys\n"
          ]
        }
      ]
    },
    {
      "cell_type": "markdown",
      "source": [
        "##Q5. Calculate the changes in Combined MPG with their previous model of all Golf cars with Manual 5-spd transmission and Regular Fuel Type. Show the Year, the Combined MPG and the calculated difference of MPG in a list sorted by Year in ascending order.\n",
        "\n",
        "##### Format: A 19X3 list, with the Year and Combined MPG being of type integer **and only the calculated difference is of type float**\n",
        "##### **Note: The value for the first model should be 0.** It does not matter that there are gaps in the years, calculate with respect the previous model.\n",
        "\n",
        "#####Example answer:\n",
        "\n",
        "\n",
        "\n",
        "```\n",
        "[[1986, 25, 0.0],\n",
        " [1987, 25, 0.0],\n",
        " [1988, 25, 0.0],\n",
        " [1989, 25, 0.0],\n",
        " [1990, 23, -2.0],\n",
        " [1991, 23, 0.0],\n",
        " [1992, 24, 1.0],\n",
        " [1993, 25, 1.0],\n",
        " [1994, 25, 0.0],\n",
        " [1995, 25, 0.0],\n",
        " [1996, 25, 0.0],\n",
        " [1997, 25, 0.0],\n",
        " [1998, 24, -1.0],\n",
        " [1999, 25, 1.0],\n",
        " [2000, 24, -1.0],\n",
        " [2001, 24, 0.0],\n",
        " [2002, 24, 0.0],\n",
        " [2004, 24, 0.0],\n",
        " [2006, 24, 0.0]]\n",
        "```\n",
        "\n",
        "\n",
        "\n"
      ],
      "metadata": {
        "id": "7eCpEljJnXzt"
      }
    },
    {
      "cell_type": "code",
      "source": [
        "def golf_changes():\n",
        "    \"\"\"\n",
        "    Q5. Calculate the changes in Combined MPG with their previous model\n",
        "     of all Golf cars with Manual 5-spd transmission and Regular Fuel Type.\n",
        "     Show the Year, the Combined MPG and the calculated difference of MPG in a list sorted by Year in ascending order.\n",
        "    \"\"\"\n",
        "    golf_vehicles = df.query('Model==\"Golf\" & Transmission==\"Manual 5-spd\" & `Fuel Type`==\"Regular\"')\n",
        "    golf_vehicles = golf_vehicles.sort_values(by=['Year'],ascending=True)\n",
        "    golf_MPG = []\n",
        "    for i in range(19):\n",
        "        temp = []\n",
        "        temp.append(int(golf_vehicles['Year'].values[i]))\n",
        "        temp.append(int(golf_vehicles['Combined MPG'].values[i]))\n",
        "        if i==0:\n",
        "            temp.append(float(0))\n",
        "        else:\n",
        "            temp.append(float(golf_vehicles['Combined MPG'].values[i] - golf_vehicles['Combined MPG'].values[i-1]))\n",
        "        golf_MPG.append(temp)\n",
        "    return golf_MPG\n",
        "    \n",
        "answer_dict[\"Q5\"] = golf_changes()\n"
      ],
      "metadata": {
        "id": "lMlKfEWUH3S9"
      },
      "execution_count": 12,
      "outputs": []
    },
    {
      "cell_type": "markdown",
      "source": [
        "##Q6. What are the top 5 lowest CO2 Emission Grams/Mile emmisions of cars for each of the following brands: Toyota, Ford, Volkswagen, Nissan, Honda\n",
        "\n",
        "#####Format: A 5X6 list with the first element of each row being the Make of the cars and the following five values being floats sorted in ascending order. The Makes should appear in order listed in the question starting with Toyota and ending with Honda (see example).\n",
        "\n",
        "#####Example answer:\n",
        "\n",
        "```\n",
        "[['Toyota', 100.0, 140.0, 140.0, 150.0, 150.0],\n",
        " ['Ford',\n",
        "  100.025641025641,\n",
        "  200.677633075759575,\n",
        "  200.677633075759575,\n",
        "  200.677633075759575,\n",
        "  200.677633075759575],\n",
        " ['Volkswagen', 139.0, 154.0, 166.5, 166.5, 166.5],\n",
        " ['Nissan', 122.0, 122.0, 122.0, 122.0, 160.0],\n",
        " ['Honda', 100.0, 100.0, 100.0, 100.0, 123.91684618442447]]\n",
        "```\n",
        "\n",
        "\n",
        "\n",
        "\n"
      ],
      "metadata": {
        "id": "EnHdqUs-nagE"
      }
    },
    {
      "cell_type": "code",
      "source": [
        "########## Q6\n",
        "#Your code here\n",
        "def low_co2():\n",
        "    \"\"\"\n",
        "    Q6. What are the top 5 lowest CO2 Emission Grams/Mile emmisions of cars for each of the following brands: \n",
        "    Toyota, Ford, Volkswagen, Nissan, Honda\n",
        "    \"\"\"\n",
        "    #CO2 Emission Grams/Mile\n",
        "    cars_brand = ['Toyota','Ford','Volkswagen','Nissan','Honda']\n",
        "    low_co2_brands = []\n",
        "    for i in cars_brand:\n",
        "        temp = []\n",
        "        vehicles = df.query('Make == \"%s\"' %(i))\n",
        "        vehicles = vehicles.sort_values(by=['CO2 Emission Grams/Mile']).head(5)\n",
        "        temp.append(i)\n",
        "        temp.extend(list(map(float,vehicles['CO2 Emission Grams/Mile'].values)))\n",
        "        low_co2_brands.append(temp)\n",
        "    return low_co2_brands\n",
        "    \n",
        "answer_dict[\"Q6\"] = low_co2()"
      ],
      "metadata": {
        "id": "8KKg3bT6na41"
      },
      "execution_count": 15,
      "outputs": []
    },
    {
      "cell_type": "markdown",
      "source": [
        "##Q7. Form 7 groups of 5 years to calculated the median Combined MPG of each group. The first group is from 1984 to 1988, the second from 1989 to 1993 and so on. The last group will have years not appearing in the dataset.\n",
        "\n",
        "#####Note: The groups ranges are inclusive on both sides, the first group starts with 1984 and cars from 1984 are included in it.\n",
        "#####Format : A 7X2 list with the first element of each row being a tuple of two integers being the lower and uppper range of the year groups and the esecond element being the median Combined MPG of that group, a float number.\n",
        "\n",
        "#####Example answer:\n",
        "\n",
        "\n",
        "```\n",
        "[[(1984, 1988), 11.0],\n",
        " [(1989, 1993), 10.0],\n",
        " [(1994, 1998), 10.0],\n",
        " [(1999, 2003), 14.0],\n",
        " [(2004, 2008), 13.0],\n",
        " [(2009, 2013), 14.0],\n",
        " [(2014, 2018), 15.0]]\n",
        "```\n",
        "\n"
      ],
      "metadata": {
        "id": "gDNo1Fcesgk5"
      }
    },
    {
      "cell_type": "code",
      "source": [
        "def median_mpg():\n",
        "    \"\"\" \n",
        "    \n",
        "    \"\"\"\n",
        "    year_range = [(1984,1988),(1989,1993),(1994,1998),(1999,2003),(2004,2008),(2009,2013),(2014,2018)]\n",
        "    median_mpg = []\n",
        "    for i in year_range:\n",
        "        temp = []\n",
        "        vehicles_range = df.query('Year >=%s & Year <= %s'%(str(i[0]),str(i[1])))\n",
        "        vehicles_range = vehicles_range['Combined MPG'].median()\n",
        "        temp.append(i)\n",
        "        temp.append(float(vehicles_range))\n",
        "        median_mpg.append(temp)\n",
        "    return median_mpg\n",
        "answer_dict[\"Q7\"] = median_mpg()"
      ],
      "metadata": {
        "id": "1cMEyFXVxBU3"
      },
      "execution_count": 14,
      "outputs": []
    },
    {
      "cell_type": "markdown",
      "source": [
        "##Test your answers\n",
        "\n",
        "##### We provide you some tests to make sure your answer dictionary is in the correct format using unittest.\n",
        "##### These tests are not meant to be comprehensive, you should review all your answers carefully."
      ],
      "metadata": {
        "id": "LiGydnlQ4cX4"
      }
    },
    {
      "cell_type": "code",
      "source": [
        "import unittest\n",
        "\n",
        "class TestAnswers(unittest.TestCase):\n",
        "    def test_if_dict(self):\n",
        "        self.assertIsInstance(answer_dict, dict)\n",
        "\n",
        "    def test_keys(self):\n",
        "        self.assertEqual(list(answer_dict.keys()), ['Q1', 'Q2', 'Q3', 'Q4', 'Q5', 'Q6', 'Q7'])\n",
        "\n",
        "    def test_answers_types(self):\n",
        "        types_values = [type(k) for k in answer_dict.values()]\n",
        "        answer_types = [float, list, list, list, list, list, list]\n",
        "        self.assertEqual(types_values, answer_types)\n",
        "\n",
        "    def test_Q1(self):\n",
        "        self.assertEqual(type(answer_dict['Q1']), float)\n",
        "\n",
        "    def test_Q2_dim(self):\n",
        "        self.assertEqual(np.array(answer_dict['Q2']).shape, (5,2))\n",
        "\n",
        "    def test_Q2_types(self):\n",
        "        dtype1 = type(answer_dict['Q2'][0][0])\n",
        "        dtype2 = type(answer_dict['Q2'][0][1])\n",
        "        self.assertEqual([dtype1, dtype2], [str, int])\n",
        "\n",
        "    def test_Q3_types(self):\n",
        "        q3_types = set([type(item) for item in answer_dict['Q3']])\n",
        "        self.assertEqual(q3_types, {str})\n",
        "\n",
        "    def test_Q4_dim(self):\n",
        "        self.assertEqual(np.array(answer_dict['Q4']).shape, (9,3))\n",
        "\n",
        "    def test_Q4_types(self):\n",
        "        dtype1 = type(answer_dict['Q4'][0][0])\n",
        "        dtype2 = type(answer_dict['Q4'][0][1])\n",
        "        dtype3 = type(answer_dict['Q4'][0][2])\n",
        "        self.assertEqual([dtype1, dtype2, dtype3], [str, int, float])\n",
        "\n",
        "    def test_Q5_dim(self):\n",
        "        self.assertEqual(np.array(answer_dict['Q5']).shape, (19,3))\n",
        "\n",
        "    def test_Q5_types(self):\n",
        "        dtype1 = type(answer_dict['Q5'][0][0])\n",
        "        dtype2 = type(answer_dict['Q5'][0][1])\n",
        "        dtype3 = type(answer_dict['Q5'][0][2])\n",
        "        self.assertEqual([dtype1, dtype2, dtype3], [int, int, float])\n",
        "\n",
        "    def test_Q5_first_zero(self):\n",
        "        self.assertEqual(answer_dict['Q5'][0][2], 0)\n",
        "\n",
        "\n",
        "    def test_Q6_dim(self):\n",
        "        self.assertEqual(np.array(answer_dict['Q6']).shape, (5,6))\n",
        "\n",
        "    def test_Q5_types(self):\n",
        "        dtype1 = type(answer_dict['Q6'][0][0])\n",
        "        dtype2 = type(answer_dict['Q6'][0][1])\n",
        "        dtype3 = type(answer_dict['Q6'][0][2])\n",
        "        dtype4 = type(answer_dict['Q6'][0][3])\n",
        "        dtype5 = type(answer_dict['Q6'][0][4])\n",
        "        dtype6 = type(answer_dict['Q6'][0][5])\n",
        "        self.assertEqual([dtype1, dtype2, dtype3, dtype4, dtype5, dtype6], [str, float, float, float, float, float])\n",
        "\n",
        "    def test_Q6_check_first_and_last_brand(self):\n",
        "        first_brand = answer_dict['Q6'][0][0]\n",
        "        last_brand = answer_dict['Q6'][4][0]\n",
        "\n",
        "        self.assertEqual([first_brand, last_brand], [\"Toyota\", \"Honda\"])\n",
        "\n",
        "    def test_Q7_dim(self):\n",
        "        self.assertEqual(np.array(answer_dict['Q7'], dtype=object).shape, (7,2))\n",
        "\n",
        "    def test_Q7_types(self):\n",
        "        dtype1 = type(answer_dict['Q7'][0][0])\n",
        "        dtype2 = type(answer_dict['Q7'][0][1])\n",
        "        self.assertEqual([dtype1, dtype2], [tuple, float])\n",
        "\n",
        "unittest.main(argv=[''], verbosity=2, exit=False)"
      ],
      "metadata": {
        "id": "iNwVFmHZ4csn",
        "colab": {
          "base_uri": "https://localhost:8080/"
        },
        "outputId": "4145f659-6f4b-4346-c791-1d44dec840a4"
      },
      "execution_count": 16,
      "outputs": [
        {
          "output_type": "stream",
          "name": "stderr",
          "text": [
            "test_Q1 (__main__.TestAnswers) ... ok\n",
            "test_Q2_dim (__main__.TestAnswers) ... ok\n",
            "test_Q2_types (__main__.TestAnswers) ... ok\n",
            "test_Q3_types (__main__.TestAnswers) ... ok\n",
            "test_Q4_dim (__main__.TestAnswers) ... ok\n",
            "test_Q4_types (__main__.TestAnswers) ... ok\n",
            "test_Q5_dim (__main__.TestAnswers) ... ok\n",
            "test_Q5_first_zero (__main__.TestAnswers) ... ok\n",
            "test_Q5_types (__main__.TestAnswers) ... ok\n",
            "test_Q6_check_first_and_last_brand (__main__.TestAnswers) ... ok\n",
            "test_Q6_dim (__main__.TestAnswers) ... ok\n",
            "test_Q7_dim (__main__.TestAnswers) ... ok\n",
            "test_Q7_types (__main__.TestAnswers) ... ok\n",
            "test_answers_types (__main__.TestAnswers) ... ok\n",
            "test_if_dict (__main__.TestAnswers) ... ok\n",
            "test_keys (__main__.TestAnswers) ... ok\n",
            "\n",
            "----------------------------------------------------------------------\n",
            "Ran 16 tests in 0.034s\n",
            "\n",
            "OK\n"
          ]
        },
        {
          "output_type": "execute_result",
          "data": {
            "text/plain": [
              "<unittest.main.TestProgram at 0x7f080ce44450>"
            ]
          },
          "metadata": {},
          "execution_count": 16
        }
      ]
    },
    {
      "cell_type": "markdown",
      "source": [
        "##Save your answers\n",
        "\n",
        "\n",
        "##### First, take a moment to evaluate your answers and make sure you have not missed anything\n",
        "\n",
        "##### Use the following code to save your answers in pickle format, change the filename using the following format:\n",
        "##### FIRSTNAME_LASTNAME_answers.pkl\n",
        "##### Example: Juan_Perez_answers.pkl\n",
        "\n",
        "##### If you are using google colab you can find your file on the left side bar by clicking the folder icon inside the sample_data folder. Remember to upload the pickle file and the notebook to github and submit their URLs to the [google form](https://forms.gle/wWysZEMkoZsjB11Y7)."
      ],
      "metadata": {
        "id": "O_Wx_D0kGjmc"
      }
    },
    {
      "cell_type": "code",
      "source": [
        "answer_dict"
      ],
      "metadata": {
        "id": "nCzU1sKMknfH",
        "colab": {
          "base_uri": "https://localhost:8080/"
        },
        "outputId": "5c14c8f1-f3fd-496f-a564-a9a76c247294"
      },
      "execution_count": 17,
      "outputs": [
        {
          "output_type": "execute_result",
          "data": {
            "text/plain": [
              "{'Q1': 1892.5984646194927,\n",
              " 'Q2': [['Mercedes-Benz', 333],\n",
              "  ['BMW', 284],\n",
              "  ['Chevrolet', 253],\n",
              "  ['Ford', 185],\n",
              "  ['GMC', 163]],\n",
              " 'Q3': ['CNG',\n",
              "  'Diesel',\n",
              "  'Gasoline or E85',\n",
              "  'Gasoline or natural gas',\n",
              "  'Gasoline or propane',\n",
              "  'Midgrade',\n",
              "  'Premium',\n",
              "  'Premium Gas or Electricity',\n",
              "  'Premium and Electricity',\n",
              "  'Premium or E85',\n",
              "  'Regular',\n",
              "  'Regular Gas and Electricity',\n",
              "  'Regular Gas or Electricity'],\n",
              " 'Q4': [['Cab/Chassis 2WD', 1993, 4.113376218494312],\n",
              "  ['Cab/Chassis 2WD', 1992, 4.113376218494312],\n",
              "  ['Cab/Chassis 2WD', 1991, 4.113376218494312],\n",
              "  ['Cab/Chassis 2WD', 1990, 4.113376218494312],\n",
              "  ['Cab/Chassis 2WD', 1989, 4.113376218494312],\n",
              "  ['Camry CNG', 1999, -3.933613148435805],\n",
              "  ['Camry CNG', 2001, -3.932713521763228],\n",
              "  ['Camry CNG', 2000, -3.932713521763228],\n",
              "  ['Land Cruiser Wagon 4WD', 1985, 3.3800324772464214]],\n",
              " 'Q5': [[1986, 26, 0.0],\n",
              "  [1987, 26, 0.0],\n",
              "  [1988, 25, -1.0],\n",
              "  [1989, 25, 0.0],\n",
              "  [1999, 24, -1.0],\n",
              "  [2000, 24, 0.0],\n",
              "  [2001, 24, 0.0],\n",
              "  [2002, 24, 0.0],\n",
              "  [2003, 24, 0.0],\n",
              "  [2004, 24, 0.0],\n",
              "  [2005, 24, 0.0],\n",
              "  [2006, 24, 0.0],\n",
              "  [2010, 25, 1.0],\n",
              "  [2011, 26, 1.0],\n",
              "  [2012, 26, 0.0],\n",
              "  [2013, 26, 0.0],\n",
              "  [2015, 30, 4.0],\n",
              "  [2016, 30, 0.0],\n",
              "  [2017, 29, -1.0]],\n",
              " 'Q6': [['Toyota', 133.0, 133.0, 133.0, 133.0, 158.0],\n",
              "  ['Ford', 112.0, 129.0, 129.0, 129.0, 129.0],\n",
              "  ['Volkswagen', 200.0, 200.0, 200.0, 200.0, 261.025641025641],\n",
              "  ['Nissan', 249.0, 254.0, 254.5, 254.5, 254.5],\n",
              "  ['Honda',\n",
              "   130.0,\n",
              "   167.67924528301887,\n",
              "   167.67924528301887,\n",
              "   167.67924528301887,\n",
              "   167.67924528301887]],\n",
              " 'Q7': [[(1984, 1988), 19.0],\n",
              "  [(1989, 1993), 18.0],\n",
              "  [(1994, 1998), 19.0],\n",
              "  [(1999, 2003), 19.0],\n",
              "  [(2004, 2008), 19.0],\n",
              "  [(2009, 2013), 21.0],\n",
              "  [(2014, 2018), 22.0]]}"
            ]
          },
          "metadata": {},
          "execution_count": 17
        }
      ]
    },
    {
      "cell_type": "code",
      "source": [
        "import pickle\n",
        "\n",
        "file_name = \"Edson_Morfin_answers.pkl\"\n",
        "path = \"\"\n",
        "\n",
        "with open(path+file_name, 'wb') as f:\n",
        "    pickle.dump(answer_dict, f, protocol=pickle.HIGHEST_PROTOCOL)"
      ],
      "metadata": {
        "id": "dEZ-vo0QGTeu"
      },
      "execution_count": 18,
      "outputs": []
    }
  ]
}